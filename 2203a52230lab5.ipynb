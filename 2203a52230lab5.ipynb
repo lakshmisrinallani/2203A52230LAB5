{
  "nbformat": 4,
  "nbformat_minor": 0,
  "metadata": {
    "colab": {
      "provenance": []
    },
    "kernelspec": {
      "name": "python3",
      "display_name": "Python 3"
    },
    "language_info": {
      "name": "python"
    }
  },
  "cells": [
    {
      "cell_type": "code",
      "execution_count": 1,
      "metadata": {
        "id": "QbuOeCOZjGyy"
      },
      "outputs": [],
      "source": [
        "import pandas as pd\n",
        "import numpy as np\n",
        "import matplotlib.pyplot as plt\n",
        "z=pd.read_csv(\"/content/breast_cancer_survival.csv\")\n",
        "#print(z)\n",
        "c = [\"Date_of_Surgery\", \"Date_of_Last_Visit\",\"Tumour_Stage\",\"Histology\",\"Surgery_type\",\"Gender\",]\n",
        "x = z.drop(c, axis=1)\n",
        "mapping = {\"Alive\": 1, \"Dead\": 0}\n",
        "x[\"Patient_Status\"] = x[\"Patient_Status\"].map(mapping)\n",
        "y = x[\"Patient_Status\"]\n",
        "x=x.drop(\"Patient_Status\", axis=1)\n",
        "mapp = {\"Positive\": 1, \"Negative\": 0}\n",
        "x[\"ER status\"]=x[\"ER status\"].map(mapp)\n",
        "mapp = {\"Positive\": 1, \"Negative\": 0}\n",
        "x[\"PR status\"]=x[\"PR status\"].map(mapp)\n",
        "mapp = {\"Positive\": 1, \"Negative\": 0}\n",
        "x[\"HER2 status\"]=x[\"HER2 status\"].map(mapp)"
      ]
    },
    {
      "cell_type": "code",
      "source": [
        "a=[\"ER status\"]\n",
        "plt.bar(a,1)"
      ],
      "metadata": {
        "colab": {
          "base_uri": "https://localhost:8080/",
          "height": 447
        },
        "id": "TOF8c6iEtkrO",
        "outputId": "cb15c928-f19f-44d8-c76e-c2653a437fd5"
      },
      "execution_count": 2,
      "outputs": [
        {
          "output_type": "execute_result",
          "data": {
            "text/plain": [
              "<BarContainer object of 1 artists>"
            ]
          },
          "metadata": {},
          "execution_count": 2
        },
        {
          "output_type": "display_data",
          "data": {
            "text/plain": [
              "<Figure size 640x480 with 1 Axes>"
            ],
            "image/png": "[encoded data removed]"
          },
          "metadata": {}
        }
      ]
    },
    {
      "cell_type": "code",
      "source": [
        "plt.bar(\"PR status\",1)"
      ],
      "metadata": {
        "colab": {
          "base_uri": "https://localhost:8080/",
          "height": 447
        },
        "id": "qoE5Uw17uw4p",
        "outputId": "a36c9945-9cee-4e99-d588-c22da4108a37"
      },
      "execution_count": 3,
      "outputs": [
        {
          "output_type": "execute_result",
          "data": {
            "text/plain": [
              "<BarContainer object of 1 artists>"
            ]
          },
          "metadata": {},
          "execution_count": 3
        },
        {
          "output_type": "display_data",
          "data": {
            "text/plain": [
              "<Figure size 640x480 with 1 Axes>"
            ],
            "image/png": "[encoded data removed]"
          },
          "metadata": {}
        }
      ]
    },
    {
      "cell_type": "code",
      "source": [
        "x=x.drop(\"ER status\",axis=1)\n",
        "x=x.drop(\"PR status\",axis=1)\n",
        "print(x)\n",
        "print(y)"
      ],
      "metadata": {
        "colab": {
          "base_uri": "https://localhost:8080/"
        },
        "id": "lZoJxgkuv9XB",
        "outputId": "bd500f99-6acc-4fcb-8a2c-82e8ff365c83"
      },
      "execution_count": 4,
      "outputs": [
        {
          "output_type": "stream",
          "name": "stdout",
          "text": [
            "     Age  Protein1  Protein2  Protein3  Protein4  HER2 status\n",
            "0     42  0.952560   2.15000  0.007972 -0.048340            0\n",
            "1     54  0.000000   1.38020 -0.498030 -0.507320            0\n",
            "2     63 -0.523030   1.76400 -0.370190  0.010815            0\n",
            "3     78 -0.876180   0.12943 -0.370380  0.132190            0\n",
            "4     42  0.226110   1.74910 -0.543970 -0.390210            1\n",
            "..   ...       ...       ...       ...       ...          ...\n",
            "329   59  0.024598   1.40050  0.024751  0.280320            1\n",
            "330   41  0.100120  -0.46547  0.472370 -0.523870            1\n",
            "331   54  0.753820   1.64250 -0.332850  0.857860            0\n",
            "332   74  0.972510   1.42680 -0.366570 -0.107820            0\n",
            "333   66  0.286380   1.39980  0.318830  0.836050            0\n",
            "\n",
            "[334 rows x 6 columns]\n",
            "0      1.0\n",
            "1      0.0\n",
            "2      1.0\n",
            "3      1.0\n",
            "4      1.0\n",
            "      ... \n",
            "329    1.0\n",
            "330    1.0\n",
            "331    0.0\n",
            "332    1.0\n",
            "333    0.0\n",
            "Name: Patient_Status, Length: 334, dtype: float64\n"
          ]
        }
      ]
    },
    {
      "cell_type": "markdown",
      "source": [],
      "metadata": {
        "id": "teop9g6s0hwP"
      }
    },
    {
      "cell_type": "code",
      "source": [
        "import numpy as np\n",
        "def sigmoid(z):\n",
        "    return 1 / (1 + np.exp(-z))\n",
        "x_bias = np.c_[np.ones((x.shape[0], 1)), x]\n",
        "num_iterations = 1000\n",
        "learning_rate = 0.01\n",
        "num_samples, num_features = x_bias.shape\n",
        "weights = np.zeros(num_features)\n",
        "for _ in range(num_iterations):\n",
        "    linear_model = np.dot(x_bias, weights)\n",
        "    predictions = sigmoid(linear_model)\n",
        "    gradient = np.dot(x_bias.T, (predictions - y)) / num_samples\n",
        "    weights -= learning_rate * gradient\n",
        "final_predictions = sigmoid(np.dot(x_bias, weights))\n",
        "final_predictions = (final_predictions > 0.5).astype(int)\n",
        "accuracy = np.mean(final_predictions == y)\n",
        "print(f\"Accuracy: {accuracy:.2f}\")\n"
      ],
      "metadata": {
        "colab": {
          "base_uri": "https://localhost:8080/"
        },
        "id": "w10q5Ce-zWkL",
        "outputId": "869f3ca5-4b1b-4a0a-c582-47f4c7bff3a4"
      },
      "execution_count": 5,
      "outputs": [
        {
          "output_type": "stream",
          "name": "stdout",
          "text": [
            "Accuracy: 0.20\n"
          ]
        }
      ]
    },
    {
      "cell_type": "code",
      "source": [
        "import numpy as np\n",
        "import pandas as pd\n",
        "import matplotlib.pyplot as plt\n",
        "from sklearn.preprocessing import MinMaxScaler\n",
        "from sklearn.model_selection import train_test_split\n",
        "from sklearn.linear_model import LogisticRegression\n",
        "from sklearn.metrics import accuracy_score\n",
        "def logistic_regression(data):\n",
        "    data['Patient_Status'] = data['Patient_Status'].map({'Alive': 1, 'Dead': 0})\n",
        "    data['HER2 status'] = data['HER2 status'].map({'Positive': 1, 'Negative': 0})\n",
        "    data = data.fillna(data.mean())\n",
        "    columns_to_drop = ['Surgery_type', 'Date_of_Surgery', 'Date_of_Last_Visit', 'Histology', 'Tumour_Stage', 'Gender','ER status','PR status']\n",
        "    data = data.drop(columns=columns_to_drop)\n",
        "    if data['Patient_Status'].isnull().sum() > 0:\n",
        "        raise ValueError(\"NaNs found in the target variable.\")\n",
        "    features = data.drop(\"Patient_Status\", axis=1)\n",
        "    target = data[\"Patient_Status\"].astype(int)\n",
        "    x_train, x_test, y_train, y_test = train_test_split(features, target, test_size=0.2, random_state=42)\n",
        "    logistic_reg = LogisticRegression()\n",
        "    logistic_reg.fit(x_train, y_train)\n",
        "    y_pred = logistic_reg.predict(x_test)\n",
        "    accuracy = accuracy_score(y_test, y_pred)\n",
        "    print(\"Accuracy:\", accuracy)\n",
        "data = pd.read_csv(\"/content/breast_cancer_survival.csv\")\n",
        "logistic_regression(data)"
      ],
      "metadata": {
        "colab": {
          "base_uri": "https://localhost:8080/"
        },
        "id": "vNcoPCg46pq9",
        "outputId": "03bef622-1cb3-4429-db87-4635cde1be5d"
      },
      "execution_count": 6,
      "outputs": [
        {
          "output_type": "stream",
          "name": "stdout",
          "text": [
            "Accuracy: 0.7761194029850746\n"
          ]
        },
        {
          "output_type": "stream",
          "name": "stderr",
          "text": [
            "<ipython-input-6-b7d6982706d3>:11: FutureWarning: The default value of numeric_only in DataFrame.mean is deprecated. In a future version, it will default to False. In addition, specifying 'numeric_only=None' is deprecated. Select only valid columns or specify the value of numeric_only to silence this warning.\n",
            "  data = data.fillna(data.mean())\n"
          ]
        }
      ]
    }
  ]
}